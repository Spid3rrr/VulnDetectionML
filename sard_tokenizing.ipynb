{
 "cells": [
  {
   "cell_type": "code",
   "execution_count": 6,
   "metadata": {},
   "outputs": [
    {
     "name": "stdout",
     "output_type": "stream",
     "text": [
      "<?php\n",
      "$variable3 = $variable4;\n",
      "$variable3 = $variable3[\"t\"];\n",
      "$variable0 = urlencode($variable3);\n",
      "$variable1 = $variable0;\n",
      "$variable2 = ((\"<a href=\\\"\" . $variable1) . \"\\\">link</a>\");\n",
      "echo($variable2);\n",
      "?>\n"
     ]
    }
   ],
   "source": [
    "file = open('dataset_sample_cleaned/498796-v1.0.0_CWE79_1.txt', 'r', encoding=\"utf8\")\n",
    "code = file.read()\n",
    "file.close()\n",
    "print(code)\n"
   ]
  },
  {
   "cell_type": "code",
   "execution_count": 9,
   "metadata": {},
   "outputs": [
    {
     "name": "stdout",
     "output_type": "stream",
     "text": [
      "[<?php, $, variable3, =, $, variable4, ;, $, variable3, =, $, variable3, [, \", t, \", ], ;, $, variable0, =, urlencode, (, $, variable3, ), ;, $, variable1, =, $, variable0, ;, $, variable2, =, (, (, \", <a href=, \\\", \", ., $, variable1, ), ., \", \\\", >link</a>, \", ), ;, echo, (, $, variable2, ), ;, ?>]\n",
      "<?php\n",
      "$\n",
      "variable3\n",
      "=\n",
      "$\n",
      "variable4\n",
      ";\n",
      "$\n",
      "variable3\n",
      "=\n",
      "$\n",
      "variable3\n",
      "[\n",
      "\"\n",
      "t\n",
      "\"\n",
      "]\n",
      ";\n",
      "$\n",
      "variable0\n",
      "=\n",
      "urlencode\n",
      "(\n",
      "$\n",
      "variable3\n",
      ")\n",
      ";\n",
      "$\n",
      "variable1\n",
      "=\n",
      "$\n",
      "variable0\n",
      ";\n",
      "$\n",
      "variable2\n",
      "=\n",
      "(\n",
      "(\n",
      "\"\n",
      "<a href=\n",
      "\\\"\n",
      "\"\n",
      ".\n",
      "$\n",
      "variable1\n",
      ")\n",
      ".\n",
      "\"\n",
      "\\\"\n",
      ">link</a>\n",
      "\"\n",
      ")\n",
      ";\n",
      "echo\n",
      "(\n",
      "$\n",
      "variable2\n",
      ")\n",
      ";\n",
      "?>\n"
     ]
    }
   ],
   "source": [
    "import code_tokenize as ctok\n",
    "\n",
    "# Tokenize the code\n",
    "tokens = ctok.tokenize(code, lang='php')\n",
    "print(tokens)\n",
    "for token in tokens:\n",
    "    print(token)"
   ]
  }
 ],
 "metadata": {
  "kernelspec": {
   "display_name": "env",
   "language": "python",
   "name": "python3"
  },
  "language_info": {
   "codemirror_mode": {
    "name": "ipython",
    "version": 3
   },
   "file_extension": ".py",
   "mimetype": "text/x-python",
   "name": "python",
   "nbconvert_exporter": "python",
   "pygments_lexer": "ipython3",
   "version": "3.8.10"
  },
  "orig_nbformat": 4
 },
 "nbformat": 4,
 "nbformat_minor": 2
}
